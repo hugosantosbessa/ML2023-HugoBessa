{
 "cells": [
  {
   "cell_type": "markdown",
   "id": "fb5308b9",
   "metadata": {},
   "source": [
    "## Utilize o dataset de crimes dispnibilizado e métodos de clusterização para segmentar a cidade em função de regiões onde ocorrem crimes.\n",
    "\n",
    "### 1 - Aplique o algoritmo DBSCAN para identificar regiões com grande densidade de crimes.\n",
    "\n",
    "#### a) Utilize os atributos de latitude e longitude na clusterização.\n",
    "\n",
    "#### b) Utilize como métrica a distância de haversine (impementação do scikit learn)\n",
    "\n",
    "#### c) Varie o eps e o minPts. Para o eps, considere ter como base de valor informações estatísticas da distância entre os pontos, como a média, mediana ou o primeiro quartil.\n",
    "\n",
    "#### d) Plote os pontos usando o Folium.\n",
    "\n",
    "### 2) Compare os resultados do DBSCAN com uma clusterização baseada no K-Means, utilize o número de clusters encontrados no DBSCAN. Plote os resultados.\n",
    "\n",
    "#### O que você pode observar de diferença entre os métodos?\n",
    "\n",
    "### 3) Faça o mesmo para clusterização hierárquica."
   ]
  },
  {
   "cell_type": "markdown",
   "id": "8374eec8",
   "metadata": {},
   "source": [
    "### Importando bibliotecas"
   ]
  },
  {
   "cell_type": "code",
   "execution_count": 1,
   "id": "6ac9fed2",
   "metadata": {},
   "outputs": [],
   "source": [
    "import numpy as np\n",
    "import pandas as pd"
   ]
  }
 ],
 "metadata": {
  "kernelspec": {
   "display_name": "Python 3 (ipykernel)",
   "language": "python",
   "name": "python3"
  },
  "language_info": {
   "codemirror_mode": {
    "name": "ipython",
    "version": 3
   },
   "file_extension": ".py",
   "mimetype": "text/x-python",
   "name": "python",
   "nbconvert_exporter": "python",
   "pygments_lexer": "ipython3",
   "version": "3.9.13"
  }
 },
 "nbformat": 4,
 "nbformat_minor": 5
}
