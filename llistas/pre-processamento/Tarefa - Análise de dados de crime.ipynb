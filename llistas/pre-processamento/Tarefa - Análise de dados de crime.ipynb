{
 "cells": [
  {
   "cell_type": "markdown",
   "id": "9ba71bec",
   "metadata": {},
   "source": [
    "## Importa as bibliotecas Numpy e Pandas, e o data frame."
   ]
  },
  {
   "cell_type": "code",
   "execution_count": 150,
   "id": "657a4d07",
   "metadata": {
    "scrolled": true
   },
   "outputs": [
    {
     "data": {
      "text/html": [
       "<div>\n",
       "<style scoped>\n",
       "    .dataframe tbody tr th:only-of-type {\n",
       "        vertical-align: middle;\n",
       "    }\n",
       "\n",
       "    .dataframe tbody tr th {\n",
       "        vertical-align: top;\n",
       "    }\n",
       "\n",
       "    .dataframe thead th {\n",
       "        text-align: right;\n",
       "    }\n",
       "</style>\n",
       "<table border=\"1\" class=\"dataframe\">\n",
       "  <thead>\n",
       "    <tr style=\"text-align: right;\">\n",
       "      <th></th>\n",
       "      <th>MUNICIPIO_CIRCUNSCRICAO</th>\n",
       "      <th>Nº DE VIT EM LATRO</th>\n",
       "      <th>DATA_FATO</th>\n",
       "      <th>HORA_FATO</th>\n",
       "      <th>DESC_TIPOLOCAL</th>\n",
       "      <th>SEXO_PESSOA</th>\n",
       "      <th>IDADE_PESSOA</th>\n",
       "      <th>COR_PELE</th>\n",
       "    </tr>\n",
       "  </thead>\n",
       "  <tbody>\n",
       "    <tr>\n",
       "      <th>0</th>\n",
       "      <td>São Paulo</td>\n",
       "      <td>1</td>\n",
       "      <td>2018-01-21</td>\n",
       "      <td>00:02:00</td>\n",
       "      <td>Via pública</td>\n",
       "      <td>Masculino</td>\n",
       "      <td>59.0</td>\n",
       "      <td>Branca</td>\n",
       "    </tr>\n",
       "    <tr>\n",
       "      <th>1</th>\n",
       "      <td>São Paulo</td>\n",
       "      <td>1</td>\n",
       "      <td>2018-01-19</td>\n",
       "      <td>23:30:00</td>\n",
       "      <td>Via pública</td>\n",
       "      <td>Masculino</td>\n",
       "      <td>27.0</td>\n",
       "      <td>Branca</td>\n",
       "    </tr>\n",
       "    <tr>\n",
       "      <th>2</th>\n",
       "      <td>São Paulo</td>\n",
       "      <td>1</td>\n",
       "      <td>2018-01-10</td>\n",
       "      <td>21:00:00</td>\n",
       "      <td>Via pública</td>\n",
       "      <td>Masculino</td>\n",
       "      <td>59.0</td>\n",
       "      <td>Branca</td>\n",
       "    </tr>\n",
       "    <tr>\n",
       "      <th>3</th>\n",
       "      <td>São Paulo</td>\n",
       "      <td>1</td>\n",
       "      <td>2018-01-14</td>\n",
       "      <td>04:33:00</td>\n",
       "      <td>Via pública</td>\n",
       "      <td>Masculino</td>\n",
       "      <td>30.0</td>\n",
       "      <td>Parda</td>\n",
       "    </tr>\n",
       "    <tr>\n",
       "      <th>4</th>\n",
       "      <td>São Paulo</td>\n",
       "      <td>1</td>\n",
       "      <td>2018-01-30</td>\n",
       "      <td>13:20:00</td>\n",
       "      <td>Via pública</td>\n",
       "      <td>Masculino</td>\n",
       "      <td>68.0</td>\n",
       "      <td>Parda</td>\n",
       "    </tr>\n",
       "  </tbody>\n",
       "</table>\n",
       "</div>"
      ],
      "text/plain": [
       "  MUNICIPIO_CIRCUNSCRICAO  Nº DE VIT EM LATRO  DATA_FATO HORA_FATO  \\\n",
       "0               São Paulo                   1 2018-01-21  00:02:00   \n",
       "1               São Paulo                   1 2018-01-19  23:30:00   \n",
       "2               São Paulo                   1 2018-01-10  21:00:00   \n",
       "3               São Paulo                   1 2018-01-14  04:33:00   \n",
       "4               São Paulo                   1 2018-01-30  13:20:00   \n",
       "\n",
       "      DESC_TIPOLOCAL SEXO_PESSOA  IDADE_PESSOA COR_PELE  \n",
       "0        Via pública   Masculino          59.0   Branca  \n",
       "1        Via pública   Masculino          27.0   Branca  \n",
       "2        Via pública   Masculino          59.0   Branca  \n",
       "3        Via pública   Masculino          30.0    Parda  \n",
       "4  Via pública         Masculino          68.0    Parda  "
      ]
     },
     "execution_count": 150,
     "metadata": {},
     "output_type": "execute_result"
    }
   ],
   "source": [
    "import pandas as pd\n",
    "import matplotlib.pyplot as plt\n",
    "import matplotlib.dates as mdates\n",
    "import seaborn as sns\n",
    "pd.options.plotting.backend = \"plotly\"\n",
    "\n",
    "\n",
    "# Selecionando apenas as colunas de interesse\n",
    "columns = ['MUNICIPIO_CIRCUNSCRICAO', 'DATA_FATO', 'HORA_FATO', 'DESC_TIPOLOCAL', 'SEXO_PESSOA', 'IDADE_PESSOA', 'COR_PELE', 'Nº DE VIT EM LATRO'] \n",
    "df = pd.read_excel('Latrocinio_2018_2022.xlsx', usecols=columns)\n",
    "df.head()"
   ]
  },
  {
   "cell_type": "markdown",
   "id": "7096af06",
   "metadata": {},
   "source": [
    "## Padronizando strings\n",
    "#### - lower case, removendo acentos, removendo espaços no final"
   ]
  },
  {
   "cell_type": "code",
   "execution_count": 151,
   "id": "47ce2690",
   "metadata": {},
   "outputs": [
    {
     "data": {
      "text/html": [
       "<div>\n",
       "<style scoped>\n",
       "    .dataframe tbody tr th:only-of-type {\n",
       "        vertical-align: middle;\n",
       "    }\n",
       "\n",
       "    .dataframe tbody tr th {\n",
       "        vertical-align: top;\n",
       "    }\n",
       "\n",
       "    .dataframe thead th {\n",
       "        text-align: right;\n",
       "    }\n",
       "</style>\n",
       "<table border=\"1\" class=\"dataframe\">\n",
       "  <thead>\n",
       "    <tr style=\"text-align: right;\">\n",
       "      <th></th>\n",
       "      <th>MUNICIPIO_CIRCUNSCRICAO</th>\n",
       "      <th>Nº DE VIT EM LATRO</th>\n",
       "      <th>DATA_FATO</th>\n",
       "      <th>HORA_FATO</th>\n",
       "      <th>DESC_TIPOLOCAL</th>\n",
       "      <th>SEXO_PESSOA</th>\n",
       "      <th>IDADE_PESSOA</th>\n",
       "      <th>COR_PELE</th>\n",
       "    </tr>\n",
       "  </thead>\n",
       "  <tbody>\n",
       "    <tr>\n",
       "      <th>0</th>\n",
       "      <td>sao paulo</td>\n",
       "      <td>1</td>\n",
       "      <td>2018-01-21</td>\n",
       "      <td>00:02:00</td>\n",
       "      <td>via publica</td>\n",
       "      <td>masculino</td>\n",
       "      <td>59.0</td>\n",
       "      <td>branca</td>\n",
       "    </tr>\n",
       "    <tr>\n",
       "      <th>1</th>\n",
       "      <td>sao paulo</td>\n",
       "      <td>1</td>\n",
       "      <td>2018-01-19</td>\n",
       "      <td>23:30:00</td>\n",
       "      <td>via publica</td>\n",
       "      <td>masculino</td>\n",
       "      <td>27.0</td>\n",
       "      <td>branca</td>\n",
       "    </tr>\n",
       "    <tr>\n",
       "      <th>2</th>\n",
       "      <td>sao paulo</td>\n",
       "      <td>1</td>\n",
       "      <td>2018-01-10</td>\n",
       "      <td>21:00:00</td>\n",
       "      <td>via publica</td>\n",
       "      <td>masculino</td>\n",
       "      <td>59.0</td>\n",
       "      <td>branca</td>\n",
       "    </tr>\n",
       "    <tr>\n",
       "      <th>3</th>\n",
       "      <td>sao paulo</td>\n",
       "      <td>1</td>\n",
       "      <td>2018-01-14</td>\n",
       "      <td>04:33:00</td>\n",
       "      <td>via publica</td>\n",
       "      <td>masculino</td>\n",
       "      <td>30.0</td>\n",
       "      <td>parda</td>\n",
       "    </tr>\n",
       "    <tr>\n",
       "      <th>4</th>\n",
       "      <td>sao paulo</td>\n",
       "      <td>1</td>\n",
       "      <td>2018-01-30</td>\n",
       "      <td>13:20:00</td>\n",
       "      <td>via publica</td>\n",
       "      <td>masculino</td>\n",
       "      <td>68.0</td>\n",
       "      <td>parda</td>\n",
       "    </tr>\n",
       "  </tbody>\n",
       "</table>\n",
       "</div>"
      ],
      "text/plain": [
       "  MUNICIPIO_CIRCUNSCRICAO  Nº DE VIT EM LATRO  DATA_FATO HORA_FATO  \\\n",
       "0               sao paulo                   1 2018-01-21  00:02:00   \n",
       "1               sao paulo                   1 2018-01-19  23:30:00   \n",
       "2               sao paulo                   1 2018-01-10  21:00:00   \n",
       "3               sao paulo                   1 2018-01-14  04:33:00   \n",
       "4               sao paulo                   1 2018-01-30  13:20:00   \n",
       "\n",
       "  DESC_TIPOLOCAL SEXO_PESSOA  IDADE_PESSOA COR_PELE  \n",
       "0    via publica   masculino          59.0   branca  \n",
       "1    via publica   masculino          27.0   branca  \n",
       "2    via publica   masculino          59.0   branca  \n",
       "3    via publica   masculino          30.0    parda  \n",
       "4    via publica   masculino          68.0    parda  "
      ]
     },
     "execution_count": 151,
     "metadata": {},
     "output_type": "execute_result"
    }
   ],
   "source": [
    "# Importando biblioteca unidecode\n",
    "from unidecode import unidecode\n",
    "\n",
    "# Unidecode(): biblioteca que subtitui caracteres com acentos por sua caractere sem acento equivalente\n",
    "# str.lower(): tranforma toda a string em lower case\n",
    "# str.strip(): remove espaços que possam haver no final de uma string\n",
    "df = df.applymap(lambda x: unidecode(x.lower().strip()) if type(x) == str else x)\n",
    "df.head()"
   ]
  },
  {
   "cell_type": "markdown",
   "id": "8f53424d",
   "metadata": {},
   "source": [
    "### Selecionando apenas as ocorrências na cidade de São Paulo"
   ]
  },
  {
   "cell_type": "code",
   "execution_count": 152,
   "id": "41b7f0bd",
   "metadata": {
    "scrolled": true
   },
   "outputs": [],
   "source": [
    "df = df[df['MUNICIPIO_CIRCUNSCRICAO'] == 'sao paulo']"
   ]
  },
  {
   "cell_type": "markdown",
   "id": "85b7cf40",
   "metadata": {},
   "source": [
    "### Excluindo linhas que contenham algum dado NaN"
   ]
  },
  {
   "cell_type": "code",
   "execution_count": 153,
   "id": "5cb8c499",
   "metadata": {},
   "outputs": [
    {
     "data": {
      "text/html": [
       "<div>\n",
       "<style scoped>\n",
       "    .dataframe tbody tr th:only-of-type {\n",
       "        vertical-align: middle;\n",
       "    }\n",
       "\n",
       "    .dataframe tbody tr th {\n",
       "        vertical-align: top;\n",
       "    }\n",
       "\n",
       "    .dataframe thead th {\n",
       "        text-align: right;\n",
       "    }\n",
       "</style>\n",
       "<table border=\"1\" class=\"dataframe\">\n",
       "  <thead>\n",
       "    <tr style=\"text-align: right;\">\n",
       "      <th></th>\n",
       "      <th>MUNICIPIO_CIRCUNSCRICAO</th>\n",
       "      <th>Nº DE VIT EM LATRO</th>\n",
       "      <th>DATA_FATO</th>\n",
       "      <th>HORA_FATO</th>\n",
       "      <th>DESC_TIPOLOCAL</th>\n",
       "      <th>SEXO_PESSOA</th>\n",
       "      <th>IDADE_PESSOA</th>\n",
       "      <th>COR_PELE</th>\n",
       "    </tr>\n",
       "  </thead>\n",
       "  <tbody>\n",
       "    <tr>\n",
       "      <th>0</th>\n",
       "      <td>sao paulo</td>\n",
       "      <td>1</td>\n",
       "      <td>2018-01-21</td>\n",
       "      <td>00:02:00</td>\n",
       "      <td>via publica</td>\n",
       "      <td>masculino</td>\n",
       "      <td>59.0</td>\n",
       "      <td>branca</td>\n",
       "    </tr>\n",
       "    <tr>\n",
       "      <th>1</th>\n",
       "      <td>sao paulo</td>\n",
       "      <td>1</td>\n",
       "      <td>2018-01-19</td>\n",
       "      <td>23:30:00</td>\n",
       "      <td>via publica</td>\n",
       "      <td>masculino</td>\n",
       "      <td>27.0</td>\n",
       "      <td>branca</td>\n",
       "    </tr>\n",
       "    <tr>\n",
       "      <th>2</th>\n",
       "      <td>sao paulo</td>\n",
       "      <td>1</td>\n",
       "      <td>2018-01-10</td>\n",
       "      <td>21:00:00</td>\n",
       "      <td>via publica</td>\n",
       "      <td>masculino</td>\n",
       "      <td>59.0</td>\n",
       "      <td>branca</td>\n",
       "    </tr>\n",
       "    <tr>\n",
       "      <th>3</th>\n",
       "      <td>sao paulo</td>\n",
       "      <td>1</td>\n",
       "      <td>2018-01-14</td>\n",
       "      <td>04:33:00</td>\n",
       "      <td>via publica</td>\n",
       "      <td>masculino</td>\n",
       "      <td>30.0</td>\n",
       "      <td>parda</td>\n",
       "    </tr>\n",
       "    <tr>\n",
       "      <th>4</th>\n",
       "      <td>sao paulo</td>\n",
       "      <td>1</td>\n",
       "      <td>2018-01-30</td>\n",
       "      <td>13:20:00</td>\n",
       "      <td>via publica</td>\n",
       "      <td>masculino</td>\n",
       "      <td>68.0</td>\n",
       "      <td>parda</td>\n",
       "    </tr>\n",
       "    <tr>\n",
       "      <th>...</th>\n",
       "      <td>...</td>\n",
       "      <td>...</td>\n",
       "      <td>...</td>\n",
       "      <td>...</td>\n",
       "      <td>...</td>\n",
       "      <td>...</td>\n",
       "      <td>...</td>\n",
       "      <td>...</td>\n",
       "    </tr>\n",
       "    <tr>\n",
       "      <th>239</th>\n",
       "      <td>sao paulo</td>\n",
       "      <td>1</td>\n",
       "      <td>2018-11-11</td>\n",
       "      <td>19:30:00</td>\n",
       "      <td>via publica</td>\n",
       "      <td>masculino</td>\n",
       "      <td>32.0</td>\n",
       "      <td>branca</td>\n",
       "    </tr>\n",
       "    <tr>\n",
       "      <th>258</th>\n",
       "      <td>sao paulo</td>\n",
       "      <td>1</td>\n",
       "      <td>2018-12-29</td>\n",
       "      <td>23:50:00</td>\n",
       "      <td>terminal/estacao</td>\n",
       "      <td>feminino</td>\n",
       "      <td>27.0</td>\n",
       "      <td>amarela</td>\n",
       "    </tr>\n",
       "    <tr>\n",
       "      <th>259</th>\n",
       "      <td>sao paulo</td>\n",
       "      <td>1</td>\n",
       "      <td>2018-12-03</td>\n",
       "      <td>00:28:00</td>\n",
       "      <td>saude</td>\n",
       "      <td>masculino</td>\n",
       "      <td>56.0</td>\n",
       "      <td>branca</td>\n",
       "    </tr>\n",
       "    <tr>\n",
       "      <th>260</th>\n",
       "      <td>sao paulo</td>\n",
       "      <td>1</td>\n",
       "      <td>2018-12-16</td>\n",
       "      <td>04:30:00</td>\n",
       "      <td>via publica</td>\n",
       "      <td>masculino</td>\n",
       "      <td>32.0</td>\n",
       "      <td>branca</td>\n",
       "    </tr>\n",
       "    <tr>\n",
       "      <th>261</th>\n",
       "      <td>sao paulo</td>\n",
       "      <td>1</td>\n",
       "      <td>2018-12-20</td>\n",
       "      <td>pela manha</td>\n",
       "      <td>residencia</td>\n",
       "      <td>masculino</td>\n",
       "      <td>25.0</td>\n",
       "      <td>amarela</td>\n",
       "    </tr>\n",
       "  </tbody>\n",
       "</table>\n",
       "<p>80 rows × 8 columns</p>\n",
       "</div>"
      ],
      "text/plain": [
       "    MUNICIPIO_CIRCUNSCRICAO  Nº DE VIT EM LATRO  DATA_FATO   HORA_FATO  \\\n",
       "0                 sao paulo                   1 2018-01-21    00:02:00   \n",
       "1                 sao paulo                   1 2018-01-19    23:30:00   \n",
       "2                 sao paulo                   1 2018-01-10    21:00:00   \n",
       "3                 sao paulo                   1 2018-01-14    04:33:00   \n",
       "4                 sao paulo                   1 2018-01-30    13:20:00   \n",
       "..                      ...                 ...        ...         ...   \n",
       "239               sao paulo                   1 2018-11-11    19:30:00   \n",
       "258               sao paulo                   1 2018-12-29    23:50:00   \n",
       "259               sao paulo                   1 2018-12-03    00:28:00   \n",
       "260               sao paulo                   1 2018-12-16    04:30:00   \n",
       "261               sao paulo                   1 2018-12-20  pela manha   \n",
       "\n",
       "       DESC_TIPOLOCAL SEXO_PESSOA  IDADE_PESSOA COR_PELE  \n",
       "0         via publica   masculino          59.0   branca  \n",
       "1         via publica   masculino          27.0   branca  \n",
       "2         via publica   masculino          59.0   branca  \n",
       "3         via publica   masculino          30.0    parda  \n",
       "4         via publica   masculino          68.0    parda  \n",
       "..                ...         ...           ...      ...  \n",
       "239       via publica   masculino          32.0   branca  \n",
       "258  terminal/estacao    feminino          27.0  amarela  \n",
       "259             saude   masculino          56.0   branca  \n",
       "260       via publica   masculino          32.0   branca  \n",
       "261        residencia   masculino          25.0  amarela  \n",
       "\n",
       "[80 rows x 8 columns]"
      ]
     },
     "execution_count": 153,
     "metadata": {},
     "output_type": "execute_result"
    }
   ],
   "source": [
    "df.dropna(axis=0)"
   ]
  },
  {
   "cell_type": "markdown",
   "id": "2772748d",
   "metadata": {},
   "source": [
    "### Alterando o tipo da coluna 'IDADE_PESSOA' de float para int"
   ]
  },
  {
   "cell_type": "code",
   "execution_count": 154,
   "id": "de6b0b0d",
   "metadata": {},
   "outputs": [],
   "source": [
    "df['IDADE_PESSOA'] = df['IDADE_PESSOA'].fillna(0.0).astype(int)"
   ]
  },
  {
   "cell_type": "markdown",
   "id": "0416e498",
   "metadata": {},
   "source": [
    "### Excluindo linhas que tenham idade de pessoas como 0 (são valores nulos)"
   ]
  },
  {
   "cell_type": "code",
   "execution_count": 155,
   "id": "9113c6be",
   "metadata": {},
   "outputs": [],
   "source": [
    "df = df.loc[df['IDADE_PESSOA'] > 0]"
   ]
  },
  {
   "cell_type": "markdown",
   "id": "509c6f66",
   "metadata": {},
   "source": [
    "### Padronizando a coluna 'HORA_FATO' e deixando somente as linhas com o formato no tipo datatime.time"
   ]
  },
  {
   "cell_type": "code",
   "execution_count": 156,
   "id": "7307edb3",
   "metadata": {},
   "outputs": [],
   "source": [
    "df = df[[not isinstance(x, str) for x in df['HORA_FATO']]]"
   ]
  },
  {
   "cell_type": "markdown",
   "id": "e7b9aaf4",
   "metadata": {},
   "source": [
    "# Plotando Gráficos"
   ]
  },
  {
   "cell_type": "markdown",
   "id": "3d6d6a7b",
   "metadata": {},
   "source": [
    "### Agrupando ocorrências de latrocinios por mês"
   ]
  },
  {
   "cell_type": "code",
   "execution_count": 157,
   "id": "42320e0a",
   "metadata": {
    "scrolled": false
   },
   "outputs": [
    {
     "data": {
      "image/png": "[encoded data removed]",
      "text/plain": [
       "<Figure size 640x480 with 1 Axes>"
      ]
     },
     "metadata": {},
     "output_type": "display_data"
    }
   ],
   "source": [
    "df_V_M = df[['Nº DE VIT EM LATRO', 'DATA_FATO']].groupby(pd.Grouper(key='DATA_FATO', freq='M')).sum()\n",
    "date = pd.to_datetime(['2018-01-31', '2018-02-28', '2018-03-31', '2018-04-30','2018-05-31', '2018-06-30', '2018-07-31',\n",
    "                       '2018-08-31', '2018-09-30', '2018-10-31', '2018-11-30', '2018-12-31'])\n",
    "\n",
    "fig, ax = plt.subplots()\n",
    "plt.plot(df_V_M, label='Nº de vitimas por mês')\n",
    "\n",
    "# configurar o eixo x para mostrar os meses do ano\n",
    "ax.xaxis.set_major_locator(mdates.MonthLocator())\n",
    "ax.xaxis.set_major_formatter(mdates.DateFormatter('%b'))\n",
    "\n",
    "plt.legend()\n",
    "plt.ylabel('Nº de vitimas')\n",
    "plt.xlabel('Mês')\n",
    "plt.xticks(date)\n",
    "\n",
    "plt.show()"
   ]
  },
  {
   "cell_type": "markdown",
   "id": "5dabccae",
   "metadata": {},
   "source": [
    "### Agrupando por sexo"
   ]
  },
  {
   "cell_type": "code",
   "execution_count": 158,
   "id": "2fa1c45c",
   "metadata": {},
   "outputs": [
    {
     "data": {
      "image/png": "[encoded data removed]",
      "text/plain": [
       "<Figure size 640x480 with 1 Axes>"
      ]
     },
     "metadata": {},
     "output_type": "display_data"
    }
   ],
   "source": [
    "counts = df['SEXO_PESSOA'].value_counts()\n",
    "plt.bar(counts.index, counts.values)\n",
    "plt.show()"
   ]
  },
  {
   "cell_type": "markdown",
   "id": "9d6f4a66",
   "metadata": {},
   "source": [
    "### Agrupando por cor de pele"
   ]
  },
  {
   "cell_type": "code",
   "execution_count": 159,
   "id": "3ba7f38b",
   "metadata": {
    "scrolled": true
   },
   "outputs": [
    {
     "data": {
      "image/png": "[encoded data removed]",
      "text/plain": [
       "<Figure size 640x480 with 1 Axes>"
      ]
     },
     "metadata": {},
     "output_type": "display_data"
    }
   ],
   "source": [
    "counts = df['COR_PELE'].value_counts()\n",
    "plt.bar(counts.index, counts.values)\n",
    "plt.show()"
   ]
  },
  {
   "cell_type": "markdown",
   "id": "8666fd31",
   "metadata": {},
   "source": [
    "### Agrupando por tipo de local da ocorrência"
   ]
  },
  {
   "cell_type": "code",
   "execution_count": 160,
   "id": "2d9ed8d5",
   "metadata": {},
   "outputs": [
    {
     "data": {
      "image/png": "[encoded data removed]",
      "text/plain": [
       "<Figure size 640x480 with 1 Axes>"
      ]
     },
     "metadata": {},
     "output_type": "display_data"
    }
   ],
   "source": [
    "counts = df['DESC_TIPOLOCAL'].value_counts()\n",
    "plt.bar(counts.index, counts.values)\n",
    "plt.xticks(rotation=90)\n",
    "plt.show()"
   ]
  },
  {
   "cell_type": "code",
   "execution_count": 162,
   "id": "652d579d",
   "metadata": {},
   "outputs": [],
   "source": [
    "#df.to_excel('teste.xlsx', sheet_name='Teste', header=True, index=False)"
   ]
  }
 ],
 "metadata": {
  "kernelspec": {
   "display_name": "Python 3 (ipykernel)",
   "language": "python",
   "name": "python3"
  },
  "language_info": {
   "codemirror_mode": {
    "name": "ipython",
    "version": 3
   },
   "file_extension": ".py",
   "mimetype": "text/x-python",
   "name": "python",
   "nbconvert_exporter": "python",
   "pygments_lexer": "ipython3",
   "version": "3.9.13"
  }
 },
 "nbformat": 4,
 "nbformat_minor": 5
}
