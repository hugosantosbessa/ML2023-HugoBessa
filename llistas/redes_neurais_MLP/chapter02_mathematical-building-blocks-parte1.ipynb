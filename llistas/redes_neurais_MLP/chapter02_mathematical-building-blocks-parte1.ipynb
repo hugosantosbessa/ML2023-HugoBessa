{
 "cells": [
  {
   "cell_type": "markdown",
   "metadata": {
    "id": "Xxpld3g4EqwJ"
   },
   "source": [
    "This is a companion notebook for the book [Deep Learning with Python, Second Edition](https://www.manning.com/books/deep-learning-with-python-second-edition?a_aid=keras&a_bid=76564dff). For readability, it only contains runnable code blocks and section titles, and omits everything else in the book: text paragraphs, figures, and pseudocode.\n",
    "\n",
    "**If you want to be able to follow what's going on, I recommend reading the notebook side by side with your copy of the book.**\n",
    "\n",
    "This notebook was generated for TensorFlow 2.6."
   ]
  },
  {
   "cell_type": "markdown",
   "metadata": {
    "id": "-rkT0IKaEqwN"
   },
   "source": [
    "# The mathematical building blocks of neural networks"
   ]
  },
  {
   "cell_type": "markdown",
   "metadata": {
    "id": "OmN42SGREqwN"
   },
   "source": [
    "## A first look at a neural network"
   ]
  },
  {
   "cell_type": "markdown",
   "metadata": {
    "id": "bH4wptDQEqwO"
   },
   "source": [
    "**Loading the MNIST dataset in Keras**"
   ]
  },
  {
   "cell_type": "code",
   "execution_count": 1,
   "metadata": {
    "colab": {
     "base_uri": "https://localhost:8080/"
    },
    "executionInfo": {
     "elapsed": 2824,
     "status": "ok",
     "timestamp": 1634135214874,
     "user": {
      "displayName": "Livia Cruz",
      "photoUrl": "https://lh3.googleusercontent.com/a-/AOh14GgZP1DcrUadZIqPLWDpJTu0FUVeZTr9DMH25FG_UQ=s64",
      "userId": "04538902551424059914"
     },
     "user_tz": 180
    },
    "id": "4_5uoM5tEqwO",
    "outputId": "80cd368a-b0b9-4452-92f2-ee0faca8c831"
   },
   "outputs": [
    {
     "name": "stdout",
     "output_type": "stream",
     "text": [
      "Downloading data from https://storage.googleapis.com/tensorflow/tf-keras-datasets/mnist.npz\n",
      "11493376/11490434 [==============================] - 0s 0us/step\n",
      "11501568/11490434 [==============================] - 0s 0us/step\n"
     ]
    }
   ],
   "source": [
    "from tensorflow.keras.datasets import mnist\n",
    "(train_images, train_labels), (test_images, test_labels) = mnist.load_data()"
   ]
  },
  {
   "cell_type": "markdown",
   "metadata": {
    "id": "T9NKwnlb8VBR"
   },
   "source": [
    "1) Dado o tensor que representa as imagens de treino e teste, apresente para os dados de treino e de teste:"
   ]
  },
  {
   "cell_type": "code",
   "execution_count": 8,
   "metadata": {
    "colab": {
     "base_uri": "https://localhost:8080/"
    },
    "executionInfo": {
     "elapsed": 243,
     "status": "ok",
     "timestamp": 1634135454633,
     "user": {
      "displayName": "Livia Cruz",
      "photoUrl": "https://lh3.googleusercontent.com/a-/AOh14GgZP1DcrUadZIqPLWDpJTu0FUVeZTr9DMH25FG_UQ=s64",
      "userId": "04538902551424059914"
     },
     "user_tz": 180
    },
    "id": "nc59zH5MEAPn",
    "outputId": "6298c5b1-dae7-4629-e8e4-1e745f151d6e"
   },
   "outputs": [
    {
     "data": {
      "text/plain": [
       "array([[  0,   0,   0,   0,   0,   0,   0,   0,   0,   0,   0,   0,   0,\n",
       "          0,   0,   0,   0,   0,   0,   0,   0,   0,   0,   0,   0,   0,\n",
       "          0,   0],\n",
       "       [  0,   0,   0,   0,   0,   0,   0,   0,   0,   0,   0,   0,   0,\n",
       "          0,   0,   0,   0,   0,   0,   0,   0,   0,   0,   0,   0,   0,\n",
       "          0,   0],\n",
       "       [  0,   0,   0,   0,   0,   0,   0,   0,   0,   0,   0,   0,   0,\n",
       "          0,   0,   0,   0,   0,   0,   0,   0,   0,   0,   0,   0,   0,\n",
       "          0,   0],\n",
       "       [  0,   0,   0,   0,   0,   0,   0,   0,   0,   0,   0,   0,   0,\n",
       "          0,   0,   0,   0,   0,   0,   0,   0,   0,   0,   0,   0,   0,\n",
       "          0,   0],\n",
       "       [  0,   0,   0,   0,   0,   0,   0,   0,   0,   0,   0,   0,   0,\n",
       "          0,   0,   0,   0,   0,   0,   0,   0,   0,   0,   0,   0,   0,\n",
       "          0,   0],\n",
       "       [  0,   0,   0,   0,   0,   0,   0,   0,   0,   0,   0,   0,   3,\n",
       "         18,  18,  18, 126, 136, 175,  26, 166, 255, 247, 127,   0,   0,\n",
       "          0,   0],\n",
       "       [  0,   0,   0,   0,   0,   0,   0,   0,  30,  36,  94, 154, 170,\n",
       "        253, 253, 253, 253, 253, 225, 172, 253, 242, 195,  64,   0,   0,\n",
       "          0,   0],\n",
       "       [  0,   0,   0,   0,   0,   0,   0,  49, 238, 253, 253, 253, 253,\n",
       "        253, 253, 253, 253, 251,  93,  82,  82,  56,  39,   0,   0,   0,\n",
       "          0,   0],\n",
       "       [  0,   0,   0,   0,   0,   0,   0,  18, 219, 253, 253, 253, 253,\n",
       "        253, 198, 182, 247, 241,   0,   0,   0,   0,   0,   0,   0,   0,\n",
       "          0,   0],\n",
       "       [  0,   0,   0,   0,   0,   0,   0,   0,  80, 156, 107, 253, 253,\n",
       "        205,  11,   0,  43, 154,   0,   0,   0,   0,   0,   0,   0,   0,\n",
       "          0,   0],\n",
       "       [  0,   0,   0,   0,   0,   0,   0,   0,   0,  14,   1, 154, 253,\n",
       "         90,   0,   0,   0,   0,   0,   0,   0,   0,   0,   0,   0,   0,\n",
       "          0,   0],\n",
       "       [  0,   0,   0,   0,   0,   0,   0,   0,   0,   0,   0, 139, 253,\n",
       "        190,   2,   0,   0,   0,   0,   0,   0,   0,   0,   0,   0,   0,\n",
       "          0,   0],\n",
       "       [  0,   0,   0,   0,   0,   0,   0,   0,   0,   0,   0,  11, 190,\n",
       "        253,  70,   0,   0,   0,   0,   0,   0,   0,   0,   0,   0,   0,\n",
       "          0,   0],\n",
       "       [  0,   0,   0,   0,   0,   0,   0,   0,   0,   0,   0,   0,  35,\n",
       "        241, 225, 160, 108,   1,   0,   0,   0,   0,   0,   0,   0,   0,\n",
       "          0,   0],\n",
       "       [  0,   0,   0,   0,   0,   0,   0,   0,   0,   0,   0,   0,   0,\n",
       "         81, 240, 253, 253, 119,  25,   0,   0,   0,   0,   0,   0,   0,\n",
       "          0,   0],\n",
       "       [  0,   0,   0,   0,   0,   0,   0,   0,   0,   0,   0,   0,   0,\n",
       "          0,  45, 186, 253, 253, 150,  27,   0,   0,   0,   0,   0,   0,\n",
       "          0,   0],\n",
       "       [  0,   0,   0,   0,   0,   0,   0,   0,   0,   0,   0,   0,   0,\n",
       "          0,   0,  16,  93, 252, 253, 187,   0,   0,   0,   0,   0,   0,\n",
       "          0,   0],\n",
       "       [  0,   0,   0,   0,   0,   0,   0,   0,   0,   0,   0,   0,   0,\n",
       "          0,   0,   0,   0, 249, 253, 249,  64,   0,   0,   0,   0,   0,\n",
       "          0,   0],\n",
       "       [  0,   0,   0,   0,   0,   0,   0,   0,   0,   0,   0,   0,   0,\n",
       "          0,  46, 130, 183, 253, 253, 207,   2,   0,   0,   0,   0,   0,\n",
       "          0,   0],\n",
       "       [  0,   0,   0,   0,   0,   0,   0,   0,   0,   0,   0,   0,  39,\n",
       "        148, 229, 253, 253, 253, 250, 182,   0,   0,   0,   0,   0,   0,\n",
       "          0,   0],\n",
       "       [  0,   0,   0,   0,   0,   0,   0,   0,   0,   0,  24, 114, 221,\n",
       "        253, 253, 253, 253, 201,  78,   0,   0,   0,   0,   0,   0,   0,\n",
       "          0,   0],\n",
       "       [  0,   0,   0,   0,   0,   0,   0,   0,  23,  66, 213, 253, 253,\n",
       "        253, 253, 198,  81,   2,   0,   0,   0,   0,   0,   0,   0,   0,\n",
       "          0,   0],\n",
       "       [  0,   0,   0,   0,   0,   0,  18, 171, 219, 253, 253, 253, 253,\n",
       "        195,  80,   9,   0,   0,   0,   0,   0,   0,   0,   0,   0,   0,\n",
       "          0,   0],\n",
       "       [  0,   0,   0,   0,  55, 172, 226, 253, 253, 253, 253, 244, 133,\n",
       "         11,   0,   0,   0,   0,   0,   0,   0,   0,   0,   0,   0,   0,\n",
       "          0,   0],\n",
       "       [  0,   0,   0,   0, 136, 253, 253, 253, 212, 135, 132,  16,   0,\n",
       "          0,   0,   0,   0,   0,   0,   0,   0,   0,   0,   0,   0,   0,\n",
       "          0,   0],\n",
       "       [  0,   0,   0,   0,   0,   0,   0,   0,   0,   0,   0,   0,   0,\n",
       "          0,   0,   0,   0,   0,   0,   0,   0,   0,   0,   0,   0,   0,\n",
       "          0,   0],\n",
       "       [  0,   0,   0,   0,   0,   0,   0,   0,   0,   0,   0,   0,   0,\n",
       "          0,   0,   0,   0,   0,   0,   0,   0,   0,   0,   0,   0,   0,\n",
       "          0,   0],\n",
       "       [  0,   0,   0,   0,   0,   0,   0,   0,   0,   0,   0,   0,   0,\n",
       "          0,   0,   0,   0,   0,   0,   0,   0,   0,   0,   0,   0,   0,\n",
       "          0,   0]], dtype=uint8)"
      ]
     },
     "execution_count": 8,
     "metadata": {},
     "output_type": "execute_result"
    }
   ],
   "source": [
    "train_images[0,:,:]"
   ]
  },
  {
   "cell_type": "markdown",
   "metadata": {
    "id": "Od-k7gmR80w_"
   },
   "source": [
    "a) O número de amostras."
   ]
  },
  {
   "cell_type": "code",
   "execution_count": 9,
   "metadata": {
    "colab": {
     "base_uri": "https://localhost:8080/"
    },
    "executionInfo": {
     "elapsed": 243,
     "status": "ok",
     "timestamp": 1634135496558,
     "user": {
      "displayName": "Livia Cruz",
      "photoUrl": "https://lh3.googleusercontent.com/a-/AOh14GgZP1DcrUadZIqPLWDpJTu0FUVeZTr9DMH25FG_UQ=s64",
      "userId": "04538902551424059914"
     },
     "user_tz": 180
    },
    "id": "bz6po6m--5sg",
    "outputId": "44db661b-7b08-4980-d6fb-7e3f31c4b8a6"
   },
   "outputs": [
    {
     "data": {
      "text/plain": [
       "60000"
      ]
     },
     "execution_count": 9,
     "metadata": {},
     "output_type": "execute_result"
    }
   ],
   "source": [
    "train_images.shape[0]"
   ]
  },
  {
   "cell_type": "markdown",
   "metadata": {
    "id": "eVEvTcqZ9mE8"
   },
   "source": [
    "b) A quantidade de eixos (ou rank)."
   ]
  },
  {
   "cell_type": "code",
   "execution_count": 7,
   "metadata": {
    "colab": {
     "base_uri": "https://localhost:8080/"
    },
    "executionInfo": {
     "elapsed": 242,
     "status": "ok",
     "timestamp": 1634135418732,
     "user": {
      "displayName": "Livia Cruz",
      "photoUrl": "https://lh3.googleusercontent.com/a-/AOh14GgZP1DcrUadZIqPLWDpJTu0FUVeZTr9DMH25FG_UQ=s64",
      "userId": "04538902551424059914"
     },
     "user_tz": 180
    },
    "id": "2md4wdlV-6UW",
    "outputId": "1eabf5c8-4f26-4638-e495-e9c34b6306b1"
   },
   "outputs": [
    {
     "data": {
      "text/plain": [
       "3"
      ]
     },
     "execution_count": 7,
     "metadata": {},
     "output_type": "execute_result"
    }
   ],
   "source": [
    "train_images.ndim"
   ]
  },
  {
   "cell_type": "markdown",
   "metadata": {
    "id": "AB7mwzbQ91BU"
   },
   "source": [
    "c) O número de dimensões de cada eixo."
   ]
  },
  {
   "cell_type": "code",
   "execution_count": 10,
   "metadata": {
    "colab": {
     "base_uri": "https://localhost:8080/"
    },
    "executionInfo": {
     "elapsed": 244,
     "status": "ok",
     "timestamp": 1634135506005,
     "user": {
      "displayName": "Livia Cruz",
      "photoUrl": "https://lh3.googleusercontent.com/a-/AOh14GgZP1DcrUadZIqPLWDpJTu0FUVeZTr9DMH25FG_UQ=s64",
      "userId": "04538902551424059914"
     },
     "user_tz": 180
    },
    "id": "h5WGe1TE-68N",
    "outputId": "a4ae5b24-176c-478e-9c0d-79e377abeeaa"
   },
   "outputs": [
    {
     "data": {
      "text/plain": [
       "(60000, 28, 28)"
      ]
     },
     "execution_count": 10,
     "metadata": {},
     "output_type": "execute_result"
    }
   ],
   "source": [
    "train_images.shape"
   ]
  },
  {
   "cell_type": "markdown",
   "metadata": {
    "id": "OyM4hWIh-2nY"
   },
   "source": [
    "d) As labels (ou classes)."
   ]
  },
  {
   "cell_type": "code",
   "execution_count": 12,
   "metadata": {
    "colab": {
     "base_uri": "https://localhost:8080/"
    },
    "executionInfo": {
     "elapsed": 252,
     "status": "ok",
     "timestamp": 1634135543898,
     "user": {
      "displayName": "Livia Cruz",
      "photoUrl": "https://lh3.googleusercontent.com/a-/AOh14GgZP1DcrUadZIqPLWDpJTu0FUVeZTr9DMH25FG_UQ=s64",
      "userId": "04538902551424059914"
     },
     "user_tz": 180
    },
    "id": "zrXEviT-ESTt",
    "outputId": "f4904299-aebe-4031-e0fa-df5af1e02ee7"
   },
   "outputs": [
    {
     "data": {
      "text/plain": [
       "array([5, 0, 4, ..., 5, 6, 8], dtype=uint8)"
      ]
     },
     "execution_count": 12,
     "metadata": {},
     "output_type": "execute_result"
    }
   ],
   "source": [
    "train_labels"
   ]
  },
  {
   "cell_type": "markdown",
   "metadata": {
    "id": "p_CHy2VkEqwT"
   },
   "source": [
    "**The network architecture**"
   ]
  },
  {
   "cell_type": "markdown",
   "metadata": {
    "id": "EWM2S1OQBNnz"
   },
   "source": [
    "2) Defina a arquitetura da rede preenchendo o valor do parâmetro referente a função de ativação da última camada, conforme exemplo visto."
   ]
  },
  {
   "cell_type": "code",
   "execution_count": 13,
   "metadata": {
    "executionInfo": {
     "elapsed": 648,
     "status": "ok",
     "timestamp": 1634135829871,
     "user": {
      "displayName": "Livia Cruz",
      "photoUrl": "https://lh3.googleusercontent.com/a-/AOh14GgZP1DcrUadZIqPLWDpJTu0FUVeZTr9DMH25FG_UQ=s64",
      "userId": "04538902551424059914"
     },
     "user_tz": 180
    },
    "id": "qZaqYriyEqwT"
   },
   "outputs": [],
   "source": [
    "from tensorflow import keras\n",
    "from tensorflow.keras import layers\n",
    "model = keras.Sequential([\n",
    "    layers.Dense(512, activation=\"relu\"),\n",
    "    layers.Dense(10, activation=\"softmax\")\n",
    "])"
   ]
  },
  {
   "cell_type": "markdown",
   "metadata": {
    "id": "iZqAXK1nEqwT"
   },
   "source": [
    "**The compilation step**"
   ]
  },
  {
   "cell_type": "markdown",
   "metadata": {
    "id": "iQlgI_ikBJpH"
   },
   "source": [
    "3) Compile o modelo preenchendo o valor dos parâmetros referentes ao otimizador e a função de perda, conforme o exemplo visto."
   ]
  },
  {
   "cell_type": "code",
   "execution_count": 20,
   "metadata": {
    "executionInfo": {
     "elapsed": 249,
     "status": "ok",
     "timestamp": 1634136387093,
     "user": {
      "displayName": "Livia Cruz",
      "photoUrl": "https://lh3.googleusercontent.com/a-/AOh14GgZP1DcrUadZIqPLWDpJTu0FUVeZTr9DMH25FG_UQ=s64",
      "userId": "04538902551424059914"
     },
     "user_tz": 180
    },
    "id": "eKPfThJcEqwU"
   },
   "outputs": [],
   "source": [
    "model.compile(optimizer=\"rmsprop\" , loss=\"sparse_categorical_crossentropy\"  , metrics=[\"accuracy\", \"top_k_categorical_accuracy\"])"
   ]
  },
  {
   "cell_type": "markdown",
   "metadata": {
    "id": "itDImJd3EqwU"
   },
   "source": [
    "**Preparing the image data**"
   ]
  },
  {
   "cell_type": "code",
   "execution_count": 15,
   "metadata": {
    "executionInfo": {
     "elapsed": 261,
     "status": "ok",
     "timestamp": 1634136039257,
     "user": {
      "displayName": "Livia Cruz",
      "photoUrl": "https://lh3.googleusercontent.com/a-/AOh14GgZP1DcrUadZIqPLWDpJTu0FUVeZTr9DMH25FG_UQ=s64",
      "userId": "04538902551424059914"
     },
     "user_tz": 180
    },
    "id": "wRAWiliiEqwU"
   },
   "outputs": [],
   "source": [
    "train_images = train_images.reshape((60000, 28 * 28))\n",
    "train_images = train_images.astype(\"float32\") / 255\n",
    "test_images = test_images.reshape((10000, 28 * 28))\n",
    "test_images = test_images.astype(\"float32\") / 255"
   ]
  },
  {
   "cell_type": "code",
   "execution_count": 16,
   "metadata": {
    "colab": {
     "base_uri": "https://localhost:8080/"
    },
    "executionInfo": {
     "elapsed": 241,
     "status": "ok",
     "timestamp": 1634136052236,
     "user": {
      "displayName": "Livia Cruz",
      "photoUrl": "https://lh3.googleusercontent.com/a-/AOh14GgZP1DcrUadZIqPLWDpJTu0FUVeZTr9DMH25FG_UQ=s64",
      "userId": "04538902551424059914"
     },
     "user_tz": 180
    },
    "id": "XQWLvyQeGTdB",
    "outputId": "1d3740ce-5868-43a6-d894-c1d785e90a2d"
   },
   "outputs": [
    {
     "data": {
      "text/plain": [
       "2"
      ]
     },
     "execution_count": 16,
     "metadata": {},
     "output_type": "execute_result"
    }
   ],
   "source": [
    "train_images.ndim"
   ]
  },
  {
   "cell_type": "markdown",
   "metadata": {
    "id": "2_9-00TYEqwV"
   },
   "source": [
    "**\"Fitting\" the model**"
   ]
  },
  {
   "cell_type": "markdown",
   "metadata": {
    "id": "2sMkp85pB91f"
   },
   "source": [
    "4) Treine o modelo usando os dados de treino, 7 épocas e um tamanho de batch de 256."
   ]
  },
  {
   "cell_type": "code",
   "execution_count": 22,
   "metadata": {
    "colab": {
     "base_uri": "https://localhost:8080/"
    },
    "executionInfo": {
     "elapsed": 41383,
     "status": "ok",
     "timestamp": 1634136530075,
     "user": {
      "displayName": "Livia Cruz",
      "photoUrl": "https://lh3.googleusercontent.com/a-/AOh14GgZP1DcrUadZIqPLWDpJTu0FUVeZTr9DMH25FG_UQ=s64",
      "userId": "04538902551424059914"
     },
     "user_tz": 180
    },
    "id": "fKeDSghyEqwV",
    "outputId": "00d4b74b-4d16-45b8-aaf7-f085fb133365"
   },
   "outputs": [
    {
     "name": "stdout",
     "output_type": "stream",
     "text": [
      "Epoch 1/7\n",
      "211/211 [==============================] - 3s 16ms/step - loss: 0.0041 - accuracy: 0.9990 - top_k_categorical_accuracy: 0.2523 - val_loss: 0.0053 - val_accuracy: 0.9987 - val_top_k_categorical_accuracy: 0.2820\n",
      "Epoch 2/7\n",
      "211/211 [==============================] - 3s 15ms/step - loss: 0.0032 - accuracy: 0.9994 - top_k_categorical_accuracy: 0.2576 - val_loss: 0.0063 - val_accuracy: 0.9987 - val_top_k_categorical_accuracy: 0.2685\n",
      "Epoch 3/7\n",
      "211/211 [==============================] - 3s 15ms/step - loss: 0.0026 - accuracy: 0.9993 - top_k_categorical_accuracy: 0.2568 - val_loss: 0.0055 - val_accuracy: 0.9993 - val_top_k_categorical_accuracy: 0.2298\n",
      "Epoch 4/7\n",
      "211/211 [==============================] - 3s 15ms/step - loss: 0.0020 - accuracy: 0.9995 - top_k_categorical_accuracy: 0.2591 - val_loss: 0.0079 - val_accuracy: 0.9987 - val_top_k_categorical_accuracy: 0.2962\n",
      "Epoch 5/7\n",
      "211/211 [==============================] - 3s 15ms/step - loss: 0.0017 - accuracy: 0.9996 - top_k_categorical_accuracy: 0.2544 - val_loss: 0.0106 - val_accuracy: 0.9968 - val_top_k_categorical_accuracy: 0.2507\n",
      "Epoch 6/7\n",
      "211/211 [==============================] - 3s 15ms/step - loss: 9.9993e-04 - accuracy: 0.9998 - top_k_categorical_accuracy: 0.2727 - val_loss: 0.0066 - val_accuracy: 0.9985 - val_top_k_categorical_accuracy: 0.2653\n",
      "Epoch 7/7\n",
      "211/211 [==============================] - 3s 15ms/step - loss: 0.0011 - accuracy: 0.9998 - top_k_categorical_accuracy: 0.2681 - val_loss: 0.0162 - val_accuracy: 0.9943 - val_top_k_categorical_accuracy: 0.2307\n"
     ]
    },
    {
     "data": {
      "text/plain": [
       "<keras.callbacks.History at 0x7f1dd8650910>"
      ]
     },
     "execution_count": 22,
     "metadata": {},
     "output_type": "execute_result"
    }
   ],
   "source": [
    "model.fit(x=train_images,y=train_labels , epochs=7, batch_size=256, validation_split=0.1)"
   ]
  },
  {
   "cell_type": "markdown",
   "metadata": {
    "id": "YnEdEu-rEqwV"
   },
   "source": [
    "**Using the model to make predictions**"
   ]
  },
  {
   "cell_type": "markdown",
   "metadata": {
    "id": "x3dW5r_ECLDl"
   },
   "source": [
    "5) Selecione 5 amostras de teste e utilize o modelo para prever suas classes. Apresente as classes preditas, os valores reais da classe das amostras escolhidas e a imagem referente à amostra."
   ]
  },
  {
   "cell_type": "code",
   "execution_count": 24,
   "metadata": {
    "executionInfo": {
     "elapsed": 240,
     "status": "ok",
     "timestamp": 1634136602807,
     "user": {
      "displayName": "Livia Cruz",
      "photoUrl": "https://lh3.googleusercontent.com/a-/AOh14GgZP1DcrUadZIqPLWDpJTu0FUVeZTr9DMH25FG_UQ=s64",
      "userId": "04538902551424059914"
     },
     "user_tz": 180
    },
    "id": "P58ZJJYpEqwV"
   },
   "outputs": [],
   "source": [
    "predicoes = model.predict(test_images[:5])"
   ]
  },
  {
   "cell_type": "code",
   "execution_count": 25,
   "metadata": {
    "executionInfo": {
     "elapsed": 242,
     "status": "ok",
     "timestamp": 1634136618269,
     "user": {
      "displayName": "Livia Cruz",
      "photoUrl": "https://lh3.googleusercontent.com/a-/AOh14GgZP1DcrUadZIqPLWDpJTu0FUVeZTr9DMH25FG_UQ=s64",
      "userId": "04538902551424059914"
     },
     "user_tz": 180
    },
    "id": "EPi8Z3CZIbop"
   },
   "outputs": [],
   "source": [
    "import numpy as np"
   ]
  },
  {
   "cell_type": "code",
   "execution_count": 28,
   "metadata": {
    "colab": {
     "base_uri": "https://localhost:8080/"
    },
    "executionInfo": {
     "elapsed": 244,
     "status": "ok",
     "timestamp": 1634136642111,
     "user": {
      "displayName": "Livia Cruz",
      "photoUrl": "https://lh3.googleusercontent.com/a-/AOh14GgZP1DcrUadZIqPLWDpJTu0FUVeZTr9DMH25FG_UQ=s64",
      "userId": "04538902551424059914"
     },
     "user_tz": 180
    },
    "id": "0r5lsDcOIfkh",
    "outputId": "82b5df5b-bc21-4411-c3d7-9afa5002095c"
   },
   "outputs": [
    {
     "data": {
      "text/plain": [
       "array([7, 2, 1, 0, 4])"
      ]
     },
     "execution_count": 28,
     "metadata": {},
     "output_type": "execute_result"
    }
   ],
   "source": [
    "np.argmax(predicoes, axis=1)"
   ]
  },
  {
   "cell_type": "markdown",
   "metadata": {
    "id": "R-YMUt-DEqwW"
   },
   "source": [
    "**Evaluating the model on new data**"
   ]
  },
  {
   "cell_type": "markdown",
   "metadata": {
    "id": "RDUjibEbDTtR"
   },
   "source": [
    "6) Avalie o modelo usando os dados de teste. Imprima a curácia obtida."
   ]
  },
  {
   "cell_type": "code",
   "execution_count": 31,
   "metadata": {
    "colab": {
     "base_uri": "https://localhost:8080/"
    },
    "executionInfo": {
     "elapsed": 1455,
     "status": "ok",
     "timestamp": 1634136707275,
     "user": {
      "displayName": "Livia Cruz",
      "photoUrl": "https://lh3.googleusercontent.com/a-/AOh14GgZP1DcrUadZIqPLWDpJTu0FUVeZTr9DMH25FG_UQ=s64",
      "userId": "04538902551424059914"
     },
     "user_tz": 180
    },
    "id": "Tnck8ox1EqwW",
    "outputId": "e17532d0-d334-4ad4-93de-c0ec858f9ec6"
   },
   "outputs": [
    {
     "name": "stdout",
     "output_type": "stream",
     "text": [
      "313/313 [==============================] - 1s 3ms/step - loss: 0.0993 - accuracy: 0.9796 - top_k_categorical_accuracy: 0.2337\n"
     ]
    }
   ],
   "source": [
    "test_loss, test_acc, test_topk = model.evaluate(test_images,test_labels)"
   ]
  },
  {
   "cell_type": "code",
   "execution_count": 32,
   "metadata": {
    "colab": {
     "base_uri": "https://localhost:8080/"
    },
    "executionInfo": {
     "elapsed": 249,
     "status": "ok",
     "timestamp": 1634136713805,
     "user": {
      "displayName": "Livia Cruz",
      "photoUrl": "https://lh3.googleusercontent.com/a-/AOh14GgZP1DcrUadZIqPLWDpJTu0FUVeZTr9DMH25FG_UQ=s64",
      "userId": "04538902551424059914"
     },
     "user_tz": 180
    },
    "id": "pWfc7eXaI2Gh",
    "outputId": "272e5785-60ad-4123-c4ff-542e258ab566"
   },
   "outputs": [
    {
     "data": {
      "text/plain": [
       "(0.09933841228485107, 0.9796000123023987, 0.2337000072002411)"
      ]
     },
     "execution_count": 32,
     "metadata": {},
     "output_type": "execute_result"
    }
   ],
   "source": [
    "test_loss, test_acc, test_topk "
   ]
  },
  {
   "cell_type": "markdown",
   "metadata": {
    "id": "k66Nl_pjEqwW"
   },
   "source": [
    "## Data representations for neural networks"
   ]
  },
  {
   "cell_type": "markdown",
   "metadata": {
    "id": "Jn5uV5aSD0EA"
   },
   "source": [
    "O código a seguir traz um exemplo de tensores com diferentes ranks, apenas execute."
   ]
  },
  {
   "cell_type": "markdown",
   "metadata": {
    "id": "xJb4sIP9EqwX"
   },
   "source": [
    "### Scalars (rank-0 tensors)"
   ]
  },
  {
   "cell_type": "code",
   "execution_count": null,
   "metadata": {
    "id": "klHEXED8EqwX"
   },
   "outputs": [],
   "source": [
    "import numpy as np\n",
    "x = np.array(12)\n",
    "x"
   ]
  },
  {
   "cell_type": "code",
   "execution_count": null,
   "metadata": {
    "id": "fcS3f7MuEqwX"
   },
   "outputs": [],
   "source": [
    "x.ndim"
   ]
  },
  {
   "cell_type": "markdown",
   "metadata": {
    "id": "jjs1hxpGEqwX"
   },
   "source": [
    "### Vectors (rank-1 tensors)"
   ]
  },
  {
   "cell_type": "code",
   "execution_count": null,
   "metadata": {
    "id": "y6JUE6NlEqwX"
   },
   "outputs": [],
   "source": [
    "x = np.array([12, 3, 6, 14, 7])\n",
    "x"
   ]
  },
  {
   "cell_type": "code",
   "execution_count": null,
   "metadata": {
    "id": "gDw-SXU9EqwX"
   },
   "outputs": [],
   "source": [
    "x.ndim"
   ]
  },
  {
   "cell_type": "markdown",
   "metadata": {
    "id": "cbLa_5o8EqwX"
   },
   "source": [
    "### Matrices (rank-2 tensors)"
   ]
  },
  {
   "cell_type": "code",
   "execution_count": null,
   "metadata": {
    "id": "Rzg78xp5EqwX"
   },
   "outputs": [],
   "source": [
    "x = np.array([[5, 78, 2, 34, 0],\n",
    "              [6, 79, 3, 35, 1],\n",
    "              [7, 80, 4, 36, 2]])\n",
    "x.ndim"
   ]
  },
  {
   "cell_type": "markdown",
   "metadata": {
    "id": "H2LKMUYuEqwY"
   },
   "source": [
    "### Rank-3 and higher-rank tensors"
   ]
  },
  {
   "cell_type": "code",
   "execution_count": null,
   "metadata": {
    "id": "id6vDR3mEqwY"
   },
   "outputs": [],
   "source": [
    "x = np.array([[[5, 78, 2, 34, 0],\n",
    "               [6, 79, 3, 35, 1],\n",
    "               [7, 80, 4, 36, 2]],\n",
    "              [[5, 78, 2, 34, 0],\n",
    "               [6, 79, 3, 35, 1],\n",
    "               [7, 80, 4, 36, 2]],\n",
    "              [[5, 78, 2, 34, 0],\n",
    "               [6, 79, 3, 35, 1],\n",
    "               [7, 80, 4, 36, 2]]])\n",
    "x.ndim"
   ]
  }
 ],
 "metadata": {
  "accelerator": "TPU",
  "colab": {
   "collapsed_sections": [],
   "name": " chapter02_mathematical-building-blocks-parte1.ipynb",
   "provenance": []
  },
  "kernelspec": {
   "display_name": "Python 3 (ipykernel)",
   "language": "python",
   "name": "python3"
  },
  "language_info": {
   "codemirror_mode": {
    "name": "ipython",
    "version": 3
   },
   "file_extension": ".py",
   "mimetype": "text/x-python",
   "name": "python",
   "nbconvert_exporter": "python",
   "pygments_lexer": "ipython3",
   "version": "3.9.13"
  }
 },
 "nbformat": 4,
 "nbformat_minor": 1
}
